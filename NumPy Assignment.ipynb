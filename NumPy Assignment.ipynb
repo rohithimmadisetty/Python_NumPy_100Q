{
 "cells": [
  {
   "cell_type": "markdown",
   "id": "ed0a640b",
   "metadata": {},
   "source": [
    "#### 1. Import the numpy package under the name `np` (★☆☆)"
   ]
  },
  {
   "cell_type": "code",
   "execution_count": 5,
   "id": "e2f7b536",
   "metadata": {},
   "outputs": [],
   "source": [
    "import numpy as np"
   ]
  },
  {
   "cell_type": "markdown",
   "id": "db57aba7",
   "metadata": {},
   "source": [
    "#### 2. Print the numpy version and the configuration (★☆☆)"
   ]
  },
  {
   "cell_type": "code",
   "execution_count": 8,
   "id": "c57e48f5",
   "metadata": {},
   "outputs": [
    {
     "data": {
      "text/plain": [
       "'1.23.1'"
      ]
     },
     "execution_count": 8,
     "metadata": {},
     "output_type": "execute_result"
    }
   ],
   "source": [
    "np.__version__"
   ]
  },
  {
   "cell_type": "markdown",
   "id": "1fd71bbf",
   "metadata": {},
   "source": [
    "#### 3. Create a null vector of size 10 (★☆☆)"
   ]
  },
  {
   "cell_type": "code",
   "execution_count": 14,
   "id": "4d267024",
   "metadata": {},
   "outputs": [
    {
     "data": {
      "text/plain": [
       "array([0., 0., 0., 0., 0., 0., 0., 0., 0., 0.])"
      ]
     },
     "execution_count": 14,
     "metadata": {},
     "output_type": "execute_result"
    }
   ],
   "source": [
    "a=np.zeros(10)\n",
    "a"
   ]
  },
  {
   "cell_type": "markdown",
   "id": "6c3cc654",
   "metadata": {},
   "source": [
    "#### 4. How to find the memory size of any array (★☆☆)\n"
   ]
  },
  {
   "cell_type": "code",
   "execution_count": 15,
   "id": "08ca6eea",
   "metadata": {},
   "outputs": [
    {
     "data": {
      "text/plain": [
       "10"
      ]
     },
     "execution_count": 15,
     "metadata": {},
     "output_type": "execute_result"
    }
   ],
   "source": [
    "a.size"
   ]
  },
  {
   "cell_type": "markdown",
   "id": "d22b329a",
   "metadata": {},
   "source": [
    "#### 5. How to get the documentation of the numpy add function from the command line? (★☆☆)"
   ]
  },
  {
   "cell_type": "code",
   "execution_count": 17,
   "id": "34833b18",
   "metadata": {},
   "outputs": [],
   "source": [
    "np.add?\n"
   ]
  },
  {
   "cell_type": "markdown",
   "id": "ccc5e0c4",
   "metadata": {},
   "source": [
    "#### 6. Create a null vector of size 10 but the fifth value which is 1 (★☆☆)"
   ]
  },
  {
   "cell_type": "code",
   "execution_count": 18,
   "id": "992aa6c0",
   "metadata": {},
   "outputs": [],
   "source": [
    "a=np.array([0,0,0,0,1,0,0,0,0,0])"
   ]
  },
  {
   "cell_type": "code",
   "execution_count": 24,
   "id": "d66a11aa",
   "metadata": {},
   "outputs": [
    {
     "data": {
      "text/plain": [
       "array([0., 0., 0., 0., 1., 0., 0., 0., 0., 0.])"
      ]
     },
     "execution_count": 24,
     "metadata": {},
     "output_type": "execute_result"
    }
   ],
   "source": [
    "b=np.zeros(10)\n",
    "b[4] = 1\n",
    "b"
   ]
  },
  {
   "cell_type": "markdown",
   "id": "3137afa8",
   "metadata": {},
   "source": [
    "#### 7. Create a vector with values ranging from 10 to 49 (★☆☆)"
   ]
  },
  {
   "cell_type": "code",
   "execution_count": 25,
   "id": "6043c8df",
   "metadata": {},
   "outputs": [],
   "source": [
    "b = np.random.randint(10,49,10)"
   ]
  },
  {
   "cell_type": "code",
   "execution_count": 26,
   "id": "eb52b535",
   "metadata": {},
   "outputs": [
    {
     "data": {
      "text/plain": [
       "array([21, 10, 42, 24, 23, 44, 13, 32, 37, 40])"
      ]
     },
     "execution_count": 26,
     "metadata": {},
     "output_type": "execute_result"
    }
   ],
   "source": [
    "b"
   ]
  },
  {
   "cell_type": "markdown",
   "id": "2a16f80a",
   "metadata": {},
   "source": [
    "#### 8. Reverse a vector (first element becomes last) (★☆☆)"
   ]
  },
  {
   "cell_type": "code",
   "execution_count": 32,
   "id": "f9c1d7c2",
   "metadata": {},
   "outputs": [
    {
     "data": {
      "text/plain": [
       "array([40, 37, 32, 13, 44, 23, 24, 42, 10, 21])"
      ]
     },
     "execution_count": 32,
     "metadata": {},
     "output_type": "execute_result"
    }
   ],
   "source": [
    "c = b[::-1]\n",
    "c"
   ]
  },
  {
   "cell_type": "markdown",
   "id": "f4e1ac7b",
   "metadata": {},
   "source": [
    "#### 9. Create a 3x3 matrix with values ranging from 0 to 8 (★☆☆)"
   ]
  },
  {
   "cell_type": "code",
   "execution_count": 34,
   "id": "a22ada00",
   "metadata": {},
   "outputs": [
    {
     "data": {
      "text/plain": [
       "array([[1, 0, 5],\n",
       "       [4, 4, 7],\n",
       "       [6, 3, 2]])"
      ]
     },
     "execution_count": 34,
     "metadata": {},
     "output_type": "execute_result"
    }
   ],
   "source": [
    "vec = np.random.randint(0,8,(3,3))\n",
    "vec"
   ]
  },
  {
   "cell_type": "markdown",
   "id": "39054513",
   "metadata": {},
   "source": [
    "#### 10. Find indices of non-zero elements from [1,2,0,0,4,0] (★☆☆)"
   ]
  },
  {
   "cell_type": "code",
   "execution_count": 35,
   "id": "1dd4fbf6",
   "metadata": {},
   "outputs": [
    {
     "data": {
      "text/plain": [
       "array([1, 2, 0, 0, 4, 0])"
      ]
     },
     "execution_count": 35,
     "metadata": {},
     "output_type": "execute_result"
    }
   ],
   "source": [
    "vec = np.array([1,2,0,0,4,0])\n",
    "vec"
   ]
  },
  {
   "cell_type": "code",
   "execution_count": 38,
   "id": "ca701e1e",
   "metadata": {},
   "outputs": [
    {
     "name": "stdout",
     "output_type": "stream",
     "text": [
      "2\n",
      "3\n",
      "5\n"
     ]
    }
   ],
   "source": [
    "inde= 0\n",
    "for x in vec:\n",
    "    if x== 0:\n",
    "        print(inde)\n",
    "    inde=inde+1"
   ]
  },
  {
   "cell_type": "markdown",
   "id": "14039d8b",
   "metadata": {},
   "source": [
    "#### 11. Create a 3x3 identity matrix (★☆☆)"
   ]
  },
  {
   "cell_type": "code",
   "execution_count": 42,
   "id": "e0305345",
   "metadata": {},
   "outputs": [
    {
     "data": {
      "text/plain": [
       "array([[1, 1, 1],\n",
       "       [1, 1, 1],\n",
       "       [1, 1, 1]])"
      ]
     },
     "execution_count": 42,
     "metadata": {},
     "output_type": "execute_result"
    }
   ],
   "source": [
    "vec = np.full((3,3),1)\n",
    "vec"
   ]
  },
  {
   "cell_type": "markdown",
   "id": "6535fb73",
   "metadata": {},
   "source": [
    "#### 12. Create a 3x3x3 array with random values (★☆☆)"
   ]
  },
  {
   "cell_type": "code",
   "execution_count": 47,
   "id": "61454083",
   "metadata": {},
   "outputs": [
    {
     "data": {
      "text/plain": [
       "array([[[42, 24, 23],\n",
       "        [ 4, 33, 32],\n",
       "        [11,  2,  5]],\n",
       "\n",
       "       [[47, 31, 18],\n",
       "        [49, 17, 13],\n",
       "        [12, 14, 33]],\n",
       "\n",
       "       [[32, 40, 47],\n",
       "        [41, 40, 12],\n",
       "        [17,  7, 27]]])"
      ]
     },
     "execution_count": 47,
     "metadata": {},
     "output_type": "execute_result"
    }
   ],
   "source": [
    "vec = np.random.randint(0,50,size=(3,3,3))\n",
    "vec"
   ]
  },
  {
   "cell_type": "markdown",
   "id": "354fb5d3",
   "metadata": {},
   "source": [
    "#### 13. Create a 10x10 array with random values and find the minimum and maximum values (★☆☆)\n"
   ]
  },
  {
   "cell_type": "code",
   "execution_count": 57,
   "id": "af6e1eda",
   "metadata": {},
   "outputs": [
    {
     "name": "stdout",
     "output_type": "stream",
     "text": [
      "[[37  7 42 42 18 32 44 23 22 40]\n",
      " [29  4 43 36 28 16 34  2 44 25]\n",
      " [48 49 43 18 39  1 25 25 44 44]\n",
      " [31 18 32 37 11  8 14 46 31 11]\n",
      " [ 1 30 16  6 49 46 19 44  8 32]\n",
      " [15 20 37 18 33 14 31 15  9 46]\n",
      " [48 22 41 45 29 27  6 40 22 21]\n",
      " [13 46 46 20 38 22  9 18 25 38]\n",
      " [27 17 13  8 40 10 23 38 18 25]\n",
      " [47 10  7  5 18 14  4 22 16 39]]\n",
      "1\n",
      "49\n"
     ]
    }
   ],
   "source": [
    "vec = np.random.randint(1,50,size=(10,10))\n",
    "print(vec)\n",
    "print(vec.min())\n",
    "print(vec.max())"
   ]
  },
  {
   "cell_type": "markdown",
   "id": "6bb4a729",
   "metadata": {},
   "source": [
    "#### 14. Create a random vector of size 30 and find the mean value (★☆☆)\n"
   ]
  },
  {
   "cell_type": "code",
   "execution_count": 59,
   "id": "fc6ea370",
   "metadata": {},
   "outputs": [
    {
     "data": {
      "text/plain": [
       "29.533333333333335"
      ]
     },
     "execution_count": 59,
     "metadata": {},
     "output_type": "execute_result"
    }
   ],
   "source": [
    "vec = np.random.randint(1,50,30)\n",
    "vec\n",
    "vec.mean()"
   ]
  },
  {
   "cell_type": "markdown",
   "id": "61e8570c",
   "metadata": {},
   "source": [
    "#### 15. Create a 2d array with 1 on the border and 0 inside (★☆☆)"
   ]
  },
  {
   "cell_type": "code",
   "execution_count": 67,
   "id": "906fc9fa",
   "metadata": {},
   "outputs": [
    {
     "data": {
      "text/plain": [
       "array([[1, 1, 1, 1],\n",
       "       [1, 1, 1, 1],\n",
       "       [1, 1, 1, 1],\n",
       "       [1, 1, 1, 1]])"
      ]
     },
     "execution_count": 67,
     "metadata": {},
     "output_type": "execute_result"
    }
   ],
   "source": [
    "vec = np.full((4,4),1)\n",
    "vec"
   ]
  },
  {
   "cell_type": "code",
   "execution_count": 68,
   "id": "af38fb13",
   "metadata": {},
   "outputs": [
    {
     "data": {
      "text/plain": [
       "array([[1, 1, 1, 1],\n",
       "       [1, 0, 0, 1],\n",
       "       [1, 0, 0, 1],\n",
       "       [1, 1, 1, 1]])"
      ]
     },
     "execution_count": 68,
     "metadata": {},
     "output_type": "execute_result"
    }
   ],
   "source": [
    "vec[1:-1,1:-1]=0\n",
    "vec"
   ]
  },
  {
   "cell_type": "markdown",
   "id": "4dd4bef2",
   "metadata": {},
   "source": [
    "#### 16. How to add a border (filled with 0's) around an existing array? (★☆☆)\n"
   ]
  },
  {
   "cell_type": "code",
   "execution_count": 70,
   "id": "8f2414fb",
   "metadata": {},
   "outputs": [
    {
     "data": {
      "text/plain": [
       "array([[48,  8,  9, 17, 13],\n",
       "       [11, 44, 37,  8, 41],\n",
       "       [ 1, 24,  6,  7, 25],\n",
       "       [34, 27, 10, 49, 15],\n",
       "       [ 5, 39, 21,  5, 41]])"
      ]
     },
     "execution_count": 70,
     "metadata": {},
     "output_type": "execute_result"
    }
   ],
   "source": [
    "vec = np.random.randint(1,50,(5,5))\n",
    "vec"
   ]
  },
  {
   "cell_type": "code",
   "execution_count": 73,
   "id": "a0125fa6",
   "metadata": {},
   "outputs": [
    {
     "data": {
      "text/plain": [
       "array([[ 0,  0,  0,  0,  0,  0,  0],\n",
       "       [ 0, 48,  8,  9, 17, 13,  0],\n",
       "       [ 0, 11, 44, 37,  8, 41,  0],\n",
       "       [ 0,  1, 24,  6,  7, 25,  0],\n",
       "       [ 0, 34, 27, 10, 49, 15,  0],\n",
       "       [ 0,  5, 39, 21,  5, 41,  0],\n",
       "       [ 0,  0,  0,  0,  0,  0,  0]])"
      ]
     },
     "execution_count": 73,
     "metadata": {},
     "output_type": "execute_result"
    }
   ],
   "source": [
    "np.pad(vec,1)"
   ]
  },
  {
   "cell_type": "code",
   "execution_count": 74,
   "id": "b75406d2",
   "metadata": {},
   "outputs": [
    {
     "data": {
      "text/plain": [
       "False"
      ]
     },
     "execution_count": 74,
     "metadata": {},
     "output_type": "execute_result"
    }
   ],
   "source": [
    "0 * np.nan\n",
    "np.nan == np.nan\n",
    "np.inf > np.nan\n",
    "np.nan - np.nan\n",
    "np.nan in set([np.nan])\n",
    "0.3 == 3 * 0.1"
   ]
  },
  {
   "cell_type": "code",
   "execution_count": null,
   "id": "67b1c2ba",
   "metadata": {},
   "outputs": [],
   "source": []
  }
 ],
 "metadata": {
  "kernelspec": {
   "display_name": "Python 3 (ipykernel)",
   "language": "python",
   "name": "python3"
  },
  "language_info": {
   "codemirror_mode": {
    "name": "ipython",
    "version": 3
   },
   "file_extension": ".py",
   "mimetype": "text/x-python",
   "name": "python",
   "nbconvert_exporter": "python",
   "pygments_lexer": "ipython3",
   "version": "3.9.12"
  }
 },
 "nbformat": 4,
 "nbformat_minor": 5
}
